{
 "cells": [
  {
   "cell_type": "code",
   "execution_count": 1,
   "id": "5da8ac87-bb48-4f60-917d-127b6b170e2b",
   "metadata": {},
   "outputs": [],
   "source": [
    "%load_ext autoreload\n",
    "%autoreload 2"
   ]
  },
  {
   "cell_type": "code",
   "execution_count": 2,
   "id": "0929d619-ea27-4f63-a37e-1979e87faea1",
   "metadata": {},
   "outputs": [
    {
     "data": {
      "text/html": [
       "\n",
       "                <script type=\"application/javascript\" id=\"jupyter_black\">\n",
       "                (function() {\n",
       "                    if (window.IPython === undefined) {\n",
       "                        return\n",
       "                    }\n",
       "                    var msg = \"WARNING: it looks like you might have loaded \" +\n",
       "                        \"jupyter_black in a non-lab notebook with \" +\n",
       "                        \"`is_lab=True`. Please double check, and if \" +\n",
       "                        \"loading with `%load_ext` please review the README!\"\n",
       "                    console.log(msg)\n",
       "                    alert(msg)\n",
       "                })()\n",
       "                </script>\n",
       "                "
      ],
      "text/plain": [
       "<IPython.core.display.HTML object>"
      ]
     },
     "metadata": {},
     "output_type": "display_data"
    }
   ],
   "source": [
    "import jupyter_black\n",
    "\n",
    "jupyter_black.load()"
   ]
  },
  {
   "cell_type": "code",
   "execution_count": 3,
   "id": "fa96cc5c-2bc4-4839-b698-3c6b13751215",
   "metadata": {},
   "outputs": [],
   "source": [
    "from math import ceil, floor\n",
    "\n",
    "from acoustics.constants import speed_of_sound"
   ]
  },
  {
   "cell_type": "code",
   "execution_count": 4,
   "id": "7a7e7d66-e84c-4c5f-81a7-ce3cd951011e",
   "metadata": {},
   "outputs": [
    {
     "name": "stdout",
     "output_type": "stream",
     "text": [
      "Room volume is 51.504m^3\n"
     ]
    }
   ],
   "source": [
    "# Data pulled from decay-time\n",
    "%store -r ceil_height\n",
    "%store -r volume\n",
    "\n",
    "print(f\"Room volume is {volume:0.3f}m^3\")"
   ]
  },
  {
   "cell_type": "markdown",
   "id": "8af09a98-07c1-419e-a6f1-653c539cdfe0",
   "metadata": {},
   "source": [
    "Based on the 1% estimate found in https://gearspace.com/board/showpost.php?p=6939337&postcount=31"
   ]
  },
  {
   "cell_type": "code",
   "execution_count": 5,
   "id": "ed1392d0-a7df-49ad-9d75-0d30e779c567",
   "metadata": {},
   "outputs": [
    {
     "name": "stdout",
     "output_type": "stream",
     "text": [
      "Estimated treatment volume required is 0.515m^3\n"
     ]
    }
   ],
   "source": [
    "# ~1%\n",
    "required = 0.01\n",
    "required_volume = volume * required\n",
    "print(f\"Estimated treatment volume required is {required_volume:0.3f}m^3\")"
   ]
  },
  {
   "cell_type": "code",
   "execution_count": 6,
   "id": "6a9a24e5-2e9b-48df-b1c6-c5dc991658a2",
   "metadata": {},
   "outputs": [
    {
     "name": "stdout",
     "output_type": "stream",
     "text": [
      "Single box volume is 0.1440m^3\n",
      "Maximum dimension is 0.8000m\n"
     ]
    }
   ],
   "source": [
    "box_width = 0.600\n",
    "box_height = 0.800\n",
    "box_depth = 0.300\n",
    "box_volume = box_width * box_height * box_depth\n",
    "box_wall_thickness = 0.019\n",
    "print(f\"Single box volume is {box_volume:0.4f}m^3\")\n",
    "box_max = max(box_width, box_height, box_depth)\n",
    "print(f\"Maximum dimension is {box_max:0.4f}m\")"
   ]
  },
  {
   "cell_type": "markdown",
   "id": "9e739da7-02df-4396-8f6b-5c04dfea107b",
   "metadata": {},
   "source": [
    "Based on the discussion of max box dimension for wavelength in https://gearspace.com/board/showpost.php?p=6939337&postcount=31"
   ]
  },
  {
   "cell_type": "code",
   "execution_count": 7,
   "id": "e1cced06-4083-49f2-85ba-79fcad21032f",
   "metadata": {},
   "outputs": [
    {
     "name": "stdout",
     "output_type": "stream",
     "text": [
      "Target frequency suggest a maximum box dimension of    0.5m for 1/20th ❌\n",
      "Target frequency suggest a maximum box dimension of    1.1m for 1/10th ✅\n",
      "Target frequency suggest a maximum box dimension of    2.7m for 1/4th  ✅\n"
     ]
    }
   ],
   "source": [
    "target_frequency = 32\n",
    "λ = speed_of_sound / target_frequency\n",
    "box_max, λ / 20, λ / 10, λ / 4\n",
    "print(\n",
    "    f'Target frequency suggest a maximum box dimension of {λ/20:6.1f}m for 1/20th {\"✅\" if λ/20 > box_max else \"❌\"}'\n",
    ")\n",
    "print(\n",
    "    f'Target frequency suggest a maximum box dimension of {λ/10:6.1f}m for 1/10th {\"✅\" if λ/10 > box_max else \"❌\"}'\n",
    ")\n",
    "print(\n",
    "    f'Target frequency suggest a maximum box dimension of {λ/4:6.1f}m for 1/4th  {\"✅\" if λ/4 > box_max else \"❌\"}'\n",
    ")"
   ]
  },
  {
   "cell_type": "code",
   "execution_count": 8,
   "id": "7fae4629-b698-4cfe-8355-ac440d22463e",
   "metadata": {},
   "outputs": [
    {
     "name": "stdout",
     "output_type": "stream",
     "text": [
      "A minimum of 4.0 boxes required to reach 1%\n"
     ]
    }
   ],
   "source": [
    "boxes_required = ceil(required_volume / box_volume)\n",
    "print(f\"A minimum of {boxes_required:0.1f} boxes required to reach 1%\")"
   ]
  },
  {
   "cell_type": "code",
   "execution_count": 9,
   "id": "8b151329-0da6-4a76-b92a-a2d929f5e904",
   "metadata": {},
   "outputs": [
    {
     "name": "stdout",
     "output_type": "stream",
     "text": [
      "At least 3 would fit vertically stacked\n"
     ]
    }
   ],
   "source": [
    "boxes_vertical = floor(ceil_height / (2 * box_wall_thickness + box_height))\n",
    "print(f\"At least {boxes_vertical:0.0f} would fit vertically stacked\")"
   ]
  },
  {
   "cell_type": "code",
   "execution_count": null,
   "id": "42548f28-4c7b-4d30-b669-810795a5e47b",
   "metadata": {},
   "outputs": [],
   "source": []
  }
 ],
 "metadata": {
  "kernelspec": {
   "display_name": "Python 3 (ipykernel)",
   "language": "python",
   "name": "python3"
  },
  "language_info": {
   "codemirror_mode": {
    "name": "ipython",
    "version": 3
   },
   "file_extension": ".py",
   "mimetype": "text/x-python",
   "name": "python",
   "nbconvert_exporter": "python",
   "pygments_lexer": "ipython3",
   "version": "3.12.5"
  }
 },
 "nbformat": 4,
 "nbformat_minor": 5
}
