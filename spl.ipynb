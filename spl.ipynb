{
 "cells": [
  {
   "cell_type": "code",
   "execution_count": 1,
   "id": "981f1b83-163a-4d90-aa02-d00120b636cf",
   "metadata": {},
   "outputs": [],
   "source": [
    "%load_ext autoreload\n",
    "%autoreload 2"
   ]
  },
  {
   "cell_type": "code",
   "execution_count": 2,
   "id": "16dd858f-893d-4da3-8439-e935f1f22e12",
   "metadata": {},
   "outputs": [
    {
     "data": {
      "text/html": [
       "\n",
       "                <script type=\"application/javascript\" id=\"jupyter_black\">\n",
       "                (function() {\n",
       "                    if (window.IPython === undefined) {\n",
       "                        return\n",
       "                    }\n",
       "                    var msg = \"WARNING: it looks like you might have loaded \" +\n",
       "                        \"jupyter_black in a non-lab notebook with \" +\n",
       "                        \"`is_lab=True`. Please double check, and if \" +\n",
       "                        \"loading with `%load_ext` please review the README!\"\n",
       "                    console.log(msg)\n",
       "                    alert(msg)\n",
       "                })()\n",
       "                </script>\n",
       "                "
      ],
      "text/plain": [
       "<IPython.core.display.HTML object>"
      ]
     },
     "metadata": {},
     "output_type": "display_data"
    }
   ],
   "source": [
    "import jupyter_black\n",
    "\n",
    "jupyter_black.load()"
   ]
  },
  {
   "cell_type": "code",
   "execution_count": 3,
   "id": "d932c2a2-a9e0-4076-85d3-283cdc504d14",
   "metadata": {},
   "outputs": [],
   "source": [
    "import numpy as np"
   ]
  },
  {
   "cell_type": "markdown",
   "id": "6112d737-7b80-49aa-8f0b-02f7604ebd16",
   "metadata": {},
   "source": [
    "https://cedia.org/site/assets/files/6057/cedia-cta_rp22_v1_2_sept_2023.pdf Section 6.1.4\n",
    "\n",
    "The recommended levels for screen speakers (mains & center in most setups.)\n",
    "\n",
    "|L1|L2|L3|L4||\n",
    "|--|--|--|--|--|\n",
    "|102|105|108|111|dB (C)|"
   ]
  },
  {
   "cell_type": "code",
   "execution_count": 4,
   "id": "27d705c3-b3e4-4f2f-b925-03e2c5310fa4",
   "metadata": {},
   "outputs": [],
   "source": [
    "# per https://www.spinorama.org/speakers/Klipsch%20RP-600M%20II/ErinsAudioCorner/index_eac-no-grille.html\n",
    "sensitivity = 84.9  # db, man. spec 94.5\n",
    "peak_power = 400\n",
    "amp_power = 200\n",
    "rsp_distance = 3.574  # distance from the mains to the primary position"
   ]
  },
  {
   "cell_type": "code",
   "execution_count": 5,
   "id": "73477ffd-7035-44a9-814f-32da21509fc0",
   "metadata": {},
   "outputs": [
    {
     "name": "stdout",
     "output_type": "stream",
     "text": [
      "Available power is 200w\n",
      "7.64x step doubling of 1w\n",
      "The increase due to wattage would be 22.93dB\n"
     ]
    }
   ],
   "source": [
    "power = min(peak_power, amp_power)\n",
    "print(f\"Available power is {power}w\")\n",
    "doubling = np.log2(power)\n",
    "print(f\"{doubling:0.2f}x step doubling of 1w\")\n",
    "dBW = doubling * 3\n",
    "print(f\"The increase due to wattage would be {dBW:0.2f}dB\")"
   ]
  },
  {
   "cell_type": "code",
   "execution_count": 6,
   "id": "12bdac6f-06ee-4ccf-9946-90736524a911",
   "metadata": {},
   "outputs": [
    {
     "name": "stdout",
     "output_type": "stream",
     "text": [
      "The approximate max SPL at 1m would be 107.83dB\n"
     ]
    }
   ],
   "source": [
    "max_spl_1m = sensitivity + dBW\n",
    "print(f\"The approximate max SPL at 1m would be {max_spl_1m:0.2f}dB\")"
   ]
  },
  {
   "cell_type": "code",
   "execution_count": 7,
   "id": "2106c5b5-8c75-47ea-bdeb-41bc87b4d31e",
   "metadata": {},
   "outputs": [
    {
     "name": "stdout",
     "output_type": "stream",
     "text": [
      "1.84x doubling due to RSP distance\n",
      "5.51dB loss to RSP from 1m\n",
      "Estimated RSP max SPL 102.32dB ±3dB\n"
     ]
    }
   ],
   "source": [
    "doubling = np.log2(rsp_distance)\n",
    "print(f\"{doubling:0.2f}x doubling due to RSP distance\")\n",
    "spl_drop = doubling * 3\n",
    "print(f\"{spl_drop:.2f}dB loss to RSP from 1m\")\n",
    "max_spl_rsp = max_spl_1m - spl_drop\n",
    "print(f\"Estimated RSP max SPL {max_spl_rsp:0.2f}dB ±3dB\")"
   ]
  },
  {
   "cell_type": "code",
   "execution_count": null,
   "id": "b78acdbd-aa77-4722-8d92-e1794869aed9",
   "metadata": {},
   "outputs": [],
   "source": []
  }
 ],
 "metadata": {
  "kernelspec": {
   "display_name": "Python 3 (ipykernel)",
   "language": "python",
   "name": "python3"
  },
  "language_info": {
   "codemirror_mode": {
    "name": "ipython",
    "version": 3
   },
   "file_extension": ".py",
   "mimetype": "text/x-python",
   "name": "python",
   "nbconvert_exporter": "python",
   "pygments_lexer": "ipython3",
   "version": "3.12.3"
  }
 },
 "nbformat": 4,
 "nbformat_minor": 5
}
