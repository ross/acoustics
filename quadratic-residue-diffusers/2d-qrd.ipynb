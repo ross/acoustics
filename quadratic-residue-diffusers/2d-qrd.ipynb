{
 "cells": [
  {
   "cell_type": "code",
   "execution_count": 1,
   "id": "c2314ce2-7f3d-4106-b5c2-e5b050f439ad",
   "metadata": {},
   "outputs": [],
   "source": [
    "%load_ext autoreload\n",
    "%autoreload 2"
   ]
  },
  {
   "cell_type": "code",
   "execution_count": 2,
   "id": "60cdc95b-2d78-47ee-8e18-6691260e252c",
   "metadata": {},
   "outputs": [
    {
     "data": {
      "text/html": [
       "\n",
       "                <script type=\"application/javascript\" id=\"jupyter_black\">\n",
       "                (function() {\n",
       "                    if (window.IPython === undefined) {\n",
       "                        return\n",
       "                    }\n",
       "                    var msg = \"WARNING: it looks like you might have loaded \" +\n",
       "                        \"jupyter_black in a non-lab notebook with \" +\n",
       "                        \"`is_lab=True`. Please double check, and if \" +\n",
       "                        \"loading with `%load_ext` please review the README!\"\n",
       "                    console.log(msg)\n",
       "                    alert(msg)\n",
       "                })()\n",
       "                </script>\n",
       "                "
      ],
      "text/plain": [
       "<IPython.core.display.HTML object>"
      ]
     },
     "metadata": {},
     "output_type": "display_data"
    }
   ],
   "source": [
    "import jupyter_black\n",
    "\n",
    "jupyter_black.load()"
   ]
  },
  {
   "cell_type": "code",
   "execution_count": 3,
   "id": "c06fd6b2-8fb5-4771-8102-c136a7c58512",
   "metadata": {},
   "outputs": [],
   "source": [
    "from collections import defaultdict\n",
    "\n",
    "import matplotlib.pyplot as plt\n",
    "import numpy as np\n",
    "\n",
    "from acoustics.constants import primes, speed_of_sound"
   ]
  },
  {
   "cell_type": "markdown",
   "id": "20ffa29c-fd90-4c35-9401-520958dc0edb",
   "metadata": {},
   "source": [
    "# Generator\n",
    "\n",
    "The following generates a standard 2d QRD sequence with a specified width, height, prime, and offset. \n",
    "\n",
    "The width, height, and prime chosen should generally result in a symetrical layout.\n",
    "\n",
    "The offset, k, can be any number and will have the effect of shifting the period. It is common practice to use the prime number divided by 2 rounded up to the next integer. This will have the effect of placing the 0 depth well in the center.\n",
    "\n",
    "[Acoustics Absorbers & Difussers 3rd Edition](https://www.amazon.com/Acoustic-Absorbers-Diffusers-Trevor-Cox/dp/0367658410), p338"
   ]
  },
  {
   "cell_type": "code",
   "execution_count": 4,
   "id": "e777eb97-b3a4-41bb-a691-7b527d5900fd",
   "metadata": {},
   "outputs": [],
   "source": [
    "def qr_sequence(w, h, p, k=None):\n",
    "    if k is None:\n",
    "        k = np.ceil(p / 2.0)\n",
    "    return np.array(\n",
    "        [\n",
    "            [(((x + k) % w) ** 2 + ((z + k) % w) ** 2) % p for x in range(w)]\n",
    "            for z in range(h)\n",
    "        ]\n",
    "    )"
   ]
  },
  {
   "cell_type": "code",
   "execution_count": 5,
   "id": "7b8545c9-9d6c-411e-8e67-a9efd5133610",
   "metadata": {},
   "outputs": [],
   "source": [
    "def construct(N, well_width, well_depth):\n",
    "    # Acoustics Absorbers & Difussers 3rd Edition, p 333\n",
    "    # w = λ_min / 2\n",
    "    λ_min = 2 * well_width\n",
    "    f_max = speed_of_sound / λ_min\n",
    "\n",
    "    # Acoustics Absorbers & Difussers 3rd Edition, p 336\n",
    "    sequence = qr_sequence(N, N, N)\n",
    "    s_max = np.max(sequence)\n",
    "    f_0 = (s_max / N) * (speed_of_sound / (2 * well_depth))\n",
    "\n",
    "    # Acoustics Absorbers & Difussers 3rd Edition, p 334\n",
    "    λ_0 = speed_of_sound / f_0\n",
    "    d_n = (sequence * λ_0) / (2 * N)\n",
    "\n",
    "    w_total = N * well_width\n",
    "\n",
    "    d_min_listening = λ_0 * 3\n",
    "    d_min_listening\n",
    "\n",
    "    M = np.max(d_n)\n",
    "    return {\n",
    "        # params\n",
    "        \"N\": N,\n",
    "        \"well_width\": well_width,\n",
    "        \"well_depth\": well_depth,\n",
    "        \"well_avg_depth\": sum(d_n) / N,\n",
    "        # results\n",
    "        \"frequency_min\": f_0,\n",
    "        \"frequency_max\": f_max,\n",
    "        \"wells\": d_n,\n",
    "        \"blocks\": M - d_n,\n",
    "        \"width\": w_total,\n",
    "    }"
   ]
  },
  {
   "cell_type": "code",
   "execution_count": 6,
   "id": "6f0403f7-022a-4c20-a831-9a68f2be7bca",
   "metadata": {},
   "outputs": [],
   "source": [
    "# we're assuming squares here\n",
    "def fit(available_space, well_width, well_depth):\n",
    "    result = None\n",
    "    for prime in reversed(primes):\n",
    "        result = construct(prime, well_width, well_depth)\n",
    "        if result[\"width\"] < available_space:\n",
    "            break\n",
    "\n",
    "    if result[\"width\"] > available_space:\n",
    "        print(\"Unable to find a working solution\")\n",
    "        return None\n",
    "\n",
    "    print(f\"N of {result['N']}\")\n",
    "    print(f\"Design frequency {result['frequency_min']:.0f}Hz\")\n",
    "    print(f\"Upper frequency {result['frequency_max']:.0f}Hz\")\n",
    "\n",
    "    heights = defaultdict(lambda: 0)\n",
    "    for row in result[\"blocks\"]:\n",
    "        for block in row:\n",
    "            heights[block] += 1\n",
    "    heights[0.0] = 0\n",
    "\n",
    "    sqr = sum(c * h * well_width for h, c in heights.items())\n",
    "    total = sum(heights.values())\n",
    "    print(f\"\\nConstruction - {total} blocks - {sqr:.3f}m^2\")\n",
    "    print(\"       mm     in    #  id\")\n",
    "    i = 0\n",
    "    for height, count in sorted(heights.items()):\n",
    "        print(f\"   {height*1000:6.1f} {height/0.0254:6.2f}  {count:3d} {i:3d}\")\n",
    "        i += 1\n",
    "\n",
    "    heights = sorted(heights.keys())\n",
    "    print(\"Layout\")\n",
    "    for row in result[\"blocks\"]:\n",
    "        row = [f\"{heights.index(b):3d}\" for b in row]\n",
    "        print(\" \".join(row))"
   ]
  },
  {
   "cell_type": "code",
   "execution_count": 7,
   "id": "ab090353-a0d0-4512-a9aa-49b5e6bf11b3",
   "metadata": {},
   "outputs": [
    {
     "name": "stdout",
     "output_type": "stream",
     "text": [
      "Available width for treatment 0.5715999999999999m\n"
     ]
    }
   ],
   "source": [
    "available_space = (24 * 0.0254) - (2 * 0.019)\n",
    "print(f\"Available width for treatment {available_space}m\")"
   ]
  },
  {
   "cell_type": "markdown",
   "id": "fc45fd85-758d-4fcd-b317-92b76b9f6b74",
   "metadata": {},
   "source": [
    "## 1\" XPS foam, 6\" depth"
   ]
  },
  {
   "cell_type": "code",
   "execution_count": 8,
   "id": "3c90b619-7553-4443-85f4-cf70cfa26b47",
   "metadata": {},
   "outputs": [
    {
     "name": "stdout",
     "output_type": "stream",
     "text": [
      "N of 19\n",
      "Design frequency 1066Hz\n",
      "Upper frequency 6752Hz\n",
      "\n",
      "Construction - 341 blocks - 0.662m^2\n",
      "       mm     in    #  id\n",
      "      0.0   0.00    0   0\n",
      "      8.5   0.33   20   1\n",
      "     16.9   0.67   20   2\n",
      "     25.4   1.00   20   3\n",
      "     33.9   1.33   20   4\n",
      "     42.3   1.67   20   5\n",
      "     50.8   2.00   20   6\n",
      "     59.3   2.33   20   7\n",
      "     67.7   2.67   20   8\n",
      "     76.2   3.00   20   9\n",
      "     84.7   3.33   20  10\n",
      "     93.1   3.67   20  11\n",
      "    101.6   4.00   20  12\n",
      "    110.1   4.33   20  13\n",
      "    118.5   4.67   20  14\n",
      "    127.0   5.00   20  15\n",
      "    135.5   5.33   20  16\n",
      "    143.9   5.67   20  17\n",
      "    152.4   6.00    1  18\n",
      "Layout\n",
      "  8   6   2  15   7  16   4   9  12  13  12   9   4  16   7  15   2   6   8\n",
      "  6   4   0  13   5  14   2   7  10  11  10   7   2  14   5  13   0   4   6\n",
      "  2   0  15   9   1  10  17   3   6   7   6   3  17  10   1   9  15   0   2\n",
      " 15  13   9   3  14   4  11  16   0   1   0  16  11   4  14   3   9  13  15\n",
      "  7   5   1  14   6  15   3   8  11  12  11   8   3  15   6  14   1   5   7\n",
      " 16  14  10   4  15   5  12  17   1   2   1  17  12   5  15   4  10  14  16\n",
      "  4   2  17  11   3  12   0   5   8   9   8   5   0  12   3  11  17   2   4\n",
      "  9   7   3  16   8  17   5  10  13  14  13  10   5  17   8  16   3   7   9\n",
      " 12  10   6   0  11   1   8  13  16  17  16  13   8   1  11   0   6  10  12\n",
      " 13  11   7   1  12   2   9  14  17  18  17  14   9   2  12   1   7  11  13\n",
      " 12  10   6   0  11   1   8  13  16  17  16  13   8   1  11   0   6  10  12\n",
      "  9   7   3  16   8  17   5  10  13  14  13  10   5  17   8  16   3   7   9\n",
      "  4   2  17  11   3  12   0   5   8   9   8   5   0  12   3  11  17   2   4\n",
      " 16  14  10   4  15   5  12  17   1   2   1  17  12   5  15   4  10  14  16\n",
      "  7   5   1  14   6  15   3   8  11  12  11   8   3  15   6  14   1   5   7\n",
      " 15  13   9   3  14   4  11  16   0   1   0  16  11   4  14   3   9  13  15\n",
      "  2   0  15   9   1  10  17   3   6   7   6   3  17  10   1   9  15   0   2\n",
      "  6   4   0  13   5  14   2   7  10  11  10   7   2  14   5  13   0   4   6\n",
      "  8   6   2  15   7  16   4   9  12  13  12   9   4  16   7  15   2   6   8\n"
     ]
    }
   ],
   "source": [
    "fit(available_space, 0.0254 * 1, 0.0254 * 6)"
   ]
  },
  {
   "cell_type": "markdown",
   "id": "6fff06ba-ae13-44b8-95dc-bb567e9d8cf4",
   "metadata": {},
   "source": [
    "## 2\" XPS foam, 6\" depth"
   ]
  },
  {
   "cell_type": "code",
   "execution_count": 9,
   "id": "2a0c89c1-1365-4715-a81a-ecf2da72d245",
   "metadata": {},
   "outputs": [
    {
     "name": "stdout",
     "output_type": "stream",
     "text": [
      "N of 11\n",
      "Design frequency 1023Hz\n",
      "Upper frequency 3376Hz\n",
      "\n",
      "Construction - 109 blocks - 0.426m^2\n",
      "       mm     in    #  id\n",
      "      0.0   0.00    0   0\n",
      "     15.2   0.60   12   1\n",
      "     30.5   1.20   12   2\n",
      "     45.7   1.80   12   3\n",
      "     61.0   2.40   12   4\n",
      "     76.2   3.00   12   5\n",
      "     91.4   3.60   12   6\n",
      "    106.7   4.20   12   7\n",
      "    121.9   4.80   12   8\n",
      "    137.2   5.40   12   9\n",
      "    152.4   6.00    1  10\n",
      "Layout\n",
      "  4   2   9   3   6   7   6   3   9   2   4\n",
      "  2   0   7   1   4   5   4   1   7   0   2\n",
      "  9   7   3   8   0   1   0   8   3   7   9\n",
      "  3   1   8   2   5   6   5   2   8   1   3\n",
      "  6   4   0   5   8   9   8   5   0   4   6\n",
      "  7   5   1   6   9  10   9   6   1   5   7\n",
      "  6   4   0   5   8   9   8   5   0   4   6\n",
      "  3   1   8   2   5   6   5   2   8   1   3\n",
      "  9   7   3   8   0   1   0   8   3   7   9\n",
      "  2   0   7   1   4   5   4   1   7   0   2\n",
      "  4   2   9   3   6   7   6   3   9   2   4\n"
     ]
    }
   ],
   "source": [
    "fit(available_space, 0.0254 * 2, 0.0254 * 6)"
   ]
  },
  {
   "cell_type": "markdown",
   "id": "71d8b0ff-25a0-47de-b85b-3f1dc636f852",
   "metadata": {},
   "source": [
    "## Prototype Diffuser\n",
    "\n",
    "N=19, above, built out of 1\" XPS foam glued to an 1/8th\" MDF backer. The whole device weights under 2kg. The process is fairly simple, but does take a decent amount of time, with very little waste. \n",
    "\n",
    "<img src=\"../images/2d-qrd-foam-top.jpg\" width=500/>\n",
    "\n",
    "<img src=\"../images/2d-qrd-foam-side.jpg\" width=500/>\n",
    "\n",
    "The 4'x8' sheet of XPS was first cut across the 4' dimension into ~36\" sections and then split on the breaks with a utility knife. Then the XPS was cut on a [hot wire table](https://www.amazon.com/dp/B0017NS8H6) into 1\" strips, resulting in a number of 1\"x1\"x36\" pieces.\n",
    "\n",
    "A series of spacers were created in [Autodesk Fusion](https://www.autodesk.com/products/fusion-360/overview). The longest matched the size of the 18 piece. A small crosscut sled was built out of scrap and the 18 spacer was placed on it against the wire and a small piece of foam was attached at the other end with double sided tape. One of the strips was placed on the sled against the foam and cut to length. This was the single 18 piece required. The remaining spacers were sized so that when placed against the foam block there would be the desired block length between the wire and the spacer. Each block had its number written on one end with a sharpie marker.\n",
    "\n",
    "<img src=\"../images/2d-qrd-foam-cutting.jpg\" width=500/>\n",
    "\n",
    "20x were cut for each of the spacers resulting in the required number of 1-17 blocks.\n",
    "\n",
    "<img src=\"../images/2d-qrd-foam-pieces.jpg\" width=500/>\n",
    "\n",
    "An oversized square of 1/8\" MDF was cut and two fences covered in packing tape were attached to it at a right angle. The blocks for a row where then arranged on the worktable with the numbers up and double checked taking extra care to ensure 0 height blocks weren't missed. The next step was to spread glue on the numbered end and place it down against the MDF in position. \n",
    "\n",
    "<img src=\"../images/2d-qrd-foam-glueup.jpg\" width=500/>"
   ]
  },
  {
   "cell_type": "code",
   "execution_count": null,
   "id": "bb047e2c-83e4-4086-8dcf-99a348790258",
   "metadata": {},
   "outputs": [],
   "source": []
  }
 ],
 "metadata": {
  "kernelspec": {
   "display_name": "Python 3 (ipykernel)",
   "language": "python",
   "name": "python3"
  },
  "language_info": {
   "codemirror_mode": {
    "name": "ipython",
    "version": 3
   },
   "file_extension": ".py",
   "mimetype": "text/x-python",
   "name": "python",
   "nbconvert_exporter": "python",
   "pygments_lexer": "ipython3",
   "version": "3.12.3"
  }
 },
 "nbformat": 4,
 "nbformat_minor": 5
}
