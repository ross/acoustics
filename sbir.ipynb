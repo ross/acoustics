{
 "cells": [
  {
   "cell_type": "code",
   "execution_count": 1,
   "id": "46422bc6-0c41-4961-b785-967bfa6839fd",
   "metadata": {},
   "outputs": [],
   "source": [
    "%load_ext autoreload\n",
    "%autoreload 2"
   ]
  },
  {
   "cell_type": "code",
   "execution_count": 2,
   "id": "768d145b-8972-4827-bb46-b7dfc97575f8",
   "metadata": {},
   "outputs": [
    {
     "data": {
      "text/html": [
       "\n",
       "                <script type=\"application/javascript\" id=\"jupyter_black\">\n",
       "                (function() {\n",
       "                    if (window.IPython === undefined) {\n",
       "                        return\n",
       "                    }\n",
       "                    var msg = \"WARNING: it looks like you might have loaded \" +\n",
       "                        \"jupyter_black in a non-lab notebook with \" +\n",
       "                        \"`is_lab=True`. Please double check, and if \" +\n",
       "                        \"loading with `%load_ext` please review the README!\"\n",
       "                    console.log(msg)\n",
       "                    alert(msg)\n",
       "                })()\n",
       "                </script>\n",
       "                "
      ],
      "text/plain": [
       "<IPython.core.display.HTML object>"
      ]
     },
     "metadata": {},
     "output_type": "display_data"
    }
   ],
   "source": [
    "import jupyter_black\n",
    "\n",
    "jupyter_black.load()"
   ]
  },
  {
   "cell_type": "code",
   "execution_count": 3,
   "id": "1c503659-0f9a-45c8-9a5b-fc7ea33201c8",
   "metadata": {},
   "outputs": [],
   "source": [
    "import numpy as np\n",
    "\n",
    "from acoustics.constants import speed_of_sound\n",
    "from acoustics.plot import plot"
   ]
  },
  {
   "cell_type": "markdown",
   "id": "6bbd9458-0034-4de8-98cf-e82c1f660faf",
   "metadata": {},
   "source": [
    "## Speaker Boundary Interference Response (SBIR)\n",
    "\n",
    "The location of a speaker in relation to the (hard) surfaces of a room will result in constructive and destructive interference when the sound waves emitted are reflected off of those surfaces. When the distance is one quarter wavelength you would get complete cancelation in an ideal/simplified world. \n",
    "\n",
    "Links:\n",
    "* https://www.gikacoustics.com/speaker-boundary-interference-response-sbir/\n",
    "* http://tripp.com.au/sbir.htm"
   ]
  },
  {
   "cell_type": "markdown",
   "id": "8846af19-6376-4bb5-94ae-1f69c177a928",
   "metadata": {},
   "source": [
    "# Room shape and dimensions\n",
    "\n",
    "<img src=\"../images/media-room-model.png\" width=500/>\n",
    "\n",
    "The room is not a simple rectangular shoebox, but for the purposes of this notebook the jut in the back left portion of the room is going to be omitted."
   ]
  },
  {
   "cell_type": "code",
   "execution_count": 4,
   "id": "f6bc93a9-36a4-4ac3-970c-8ebc47f9efb1",
   "metadata": {},
   "outputs": [
    {
     "data": {
      "text/plain": [
       "(5.334, 3.6957, 2.52095)"
      ]
     },
     "execution_count": 4,
     "metadata": {},
     "output_type": "execute_result"
    }
   ],
   "source": [
    "# Data pulled from decay-time\n",
    "%store -r ceil_height\n",
    "height = ceil_height\n",
    "%store -r front_width\n",
    "width = front_width\n",
    "%store -r left_front_length\n",
    "%store -r left_back_length\n",
    "length = left_front_length + left_back_length\n",
    "length, width, height"
   ]
  },
  {
   "cell_type": "code",
   "execution_count": 5,
   "id": "1fb57ade-8a05-4b5b-8fa3-d82be8cc0513",
   "metadata": {},
   "outputs": [],
   "source": [
    "# distances to the centerpoint of the speaker\n",
    "main_from_front = 0.831\n",
    "main_from_side = 0.338\n",
    "main_from_floor = 0.764\n",
    "main_width = 0.215"
   ]
  },
  {
   "cell_type": "code",
   "execution_count": 6,
   "id": "2396dc56-8e03-4ae3-9d11-bd5c12543810",
   "metadata": {},
   "outputs": [
    {
     "name": "stdout",
     "output_type": "stream",
     "text": [
      "Boundary             1st null 1st peak 2nd null 2nd peak\n",
      "Front wall                103      310      516      722\n",
      "Side wall                 254      761     1268     1776\n",
      "Floor                     112      337      561      786\n",
      "Ceiling                    49      146      244      342\n",
      "Opposite side wall         26       77      128      179\n",
      "Back wall                  19       57       95      133\n"
     ]
    }
   ],
   "source": [
    "def compute_sbir(name, d):\n",
    "    f = speed_of_sound / (4 * d)\n",
    "    print(f\"{name:20s} {f:8.0f} {3*f:8.0f} {5*f:8.0f} {7*f:8.0f}\")\n",
    "\n",
    "\n",
    "print(\"Boundary             1st null 1st peak 2nd null 2nd peak\")\n",
    "compute_sbir(\"Front wall\", main_from_front)\n",
    "compute_sbir(\"Side wall\", main_from_side)\n",
    "compute_sbir(\"Floor\", main_from_floor)\n",
    "compute_sbir(\"Ceiling\", height - main_from_floor)\n",
    "compute_sbir(\"Opposite side wall\", width - main_from_side)\n",
    "compute_sbir(\"Back wall\", length - main_from_front)"
   ]
  },
  {
   "cell_type": "markdown",
   "id": "f1ab2c2f-e067-47ca-9677-d6ee97c5b7f0",
   "metadata": {},
   "source": [
    "## Baffle Step\n",
    "\n",
    "Links:\n",
    "* http://tripp.com.au/sbir.htm\n",
    "* https://www.trueaudio.com/st_diff1.htm"
   ]
  },
  {
   "cell_type": "code",
   "execution_count": 7,
   "id": "dc76520c-fa24-48ca-9299-53130138d5cf",
   "metadata": {},
   "outputs": [
    {
     "name": "stdout",
     "output_type": "stream",
     "text": [
      "The f_low, fully 4pi, is 200Hz\n",
      "The f3, -3db, midpoint is 539Hz\n",
      "The f_high, fully 2pi, is 3204Hz\n"
     ]
    }
   ],
   "source": [
    "f_low = 1 / 8 * 344.424 / main_width\n",
    "print(f\"The f_low, fully 4pi, is {f_low:.0f}Hz\")\n",
    "f3 = 115.824 / main_width\n",
    "print(f\"The f3, -3db, midpoint is {f3:.0f}Hz\")\n",
    "f_high = 2 * 344.424 / main_width\n",
    "print(f\"The f_high, fully 2pi, is {f_high:.0f}Hz\")"
   ]
  },
  {
   "cell_type": "code",
   "execution_count": null,
   "id": "5c89967e-f166-4274-95d5-49523c8fa9fd",
   "metadata": {},
   "outputs": [],
   "source": []
  }
 ],
 "metadata": {
  "kernelspec": {
   "display_name": "Python 3 (ipykernel)",
   "language": "python",
   "name": "python3"
  },
  "language_info": {
   "codemirror_mode": {
    "name": "ipython",
    "version": 3
   },
   "file_extension": ".py",
   "mimetype": "text/x-python",
   "name": "python",
   "nbconvert_exporter": "python",
   "pygments_lexer": "ipython3",
   "version": "3.12.3"
  }
 },
 "nbformat": 4,
 "nbformat_minor": 5
}
