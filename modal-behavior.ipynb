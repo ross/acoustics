{
 "cells": [
  {
   "cell_type": "code",
   "execution_count": 1,
   "id": "5b30ecde-d64d-4241-bde7-cbaf4ae31580",
   "metadata": {},
   "outputs": [],
   "source": [
    "%load_ext autoreload\n",
    "%autoreload 2"
   ]
  },
  {
   "cell_type": "code",
   "execution_count": 2,
   "id": "b43b6fe5-9e5f-45a7-bdb3-97ab6290a10c",
   "metadata": {},
   "outputs": [
    {
     "data": {
      "text/html": [
       "\n",
       "                <script type=\"application/javascript\" id=\"jupyter_black\">\n",
       "                (function() {\n",
       "                    if (window.IPython === undefined) {\n",
       "                        return\n",
       "                    }\n",
       "                    var msg = \"WARNING: it looks like you might have loaded \" +\n",
       "                        \"jupyter_black in a non-lab notebook with \" +\n",
       "                        \"`is_lab=True`. Please double check, and if \" +\n",
       "                        \"loading with `%load_ext` please review the README!\"\n",
       "                    console.log(msg)\n",
       "                    alert(msg)\n",
       "                })()\n",
       "                </script>\n",
       "                "
      ],
      "text/plain": [
       "<IPython.core.display.HTML object>"
      ]
     },
     "metadata": {},
     "output_type": "display_data"
    }
   ],
   "source": [
    "import jupyter_black\n",
    "\n",
    "jupyter_black.load()"
   ]
  },
  {
   "cell_type": "code",
   "execution_count": 24,
   "id": "9b122364-c80f-4fb9-a3a8-4dbc9ec23e82",
   "metadata": {},
   "outputs": [],
   "source": [
    "import matplotlib.pyplot as plt\n",
    "import numpy as np\n",
    "\n",
    "from acoustics.constants import speed_of_sound\n",
    "from acoustics.plot import plot"
   ]
  },
  {
   "cell_type": "markdown",
   "id": "8358f710-8308-4b19-96ab-eee611a9fe34",
   "metadata": {},
   "source": [
    "# Room shape and dimensions\n",
    "\n",
    "<img src=\"../images/media-room-model.png\" width=500/>\n",
    "\n",
    "In the general case modal calculations are estimates as the real-world values are complex and influenced by the structral and acoustic behaviors of the materaials in the room. As you can see above the room being discussed here isn't rectangular and thus any estimates and calculations using the simple methods here are even fuzzier. It's still interesting to explore.\n",
    "\n",
    "We'll simplify the room and use its average size.\n",
    "\n",
    "The work done here is based on the Master Handbook of Acoustics 4th Eddition, p324"
   ]
  },
  {
   "cell_type": "code",
   "execution_count": 40,
   "id": "332f73d0-e53e-42e8-b2bb-0039c524d3a4",
   "metadata": {},
   "outputs": [
    {
     "name": "stdout",
     "output_type": "stream",
     "text": [
      "Room length is 5.33m, width 3.83m, height 2.52m\n"
     ]
    }
   ],
   "source": [
    "# In meters:\n",
    "height = 2.52095\n",
    "left_front_length = 2.5781\n",
    "left_back_length = 2.7559\n",
    "front_width = 3.6957\n",
    "back_width = 3.95605\n",
    "# weighted average width\n",
    "width = ((front_width * left_front_length) + (back_width * left_back_length)) / (\n",
    "    left_front_length + left_back_length\n",
    ")\n",
    "length = left_front_length + left_back_length\n",
    "print(f\"Room length is {length:0.2f}m, width {width:.2f}m, height {height:.2f}m\")"
   ]
  },
  {
   "cell_type": "code",
   "execution_count": 41,
   "id": "148e669e-63d5-4372-8378-c141ccaa2308",
   "metadata": {},
   "outputs": [],
   "source": [
    "# some shortcuts\n",
    "length2 = length * length\n",
    "width2 = width * width\n",
    "height2 = height * height"
   ]
  },
  {
   "cell_type": "markdown",
   "id": "9c8e10f5-8c2f-496e-8b3b-46b766825f1e",
   "metadata": {},
   "source": [
    "## Very low frequencies\n",
    "\n",
    "Frequencies where the room is not large enough to support standing waves. Below this point the behavior of sound in the room will be extremely complex."
   ]
  },
  {
   "cell_type": "code",
   "execution_count": 15,
   "id": "a56507f8-9c44-4108-9199-3f03ce7825e2",
   "metadata": {},
   "outputs": [
    {
     "name": "stdout",
     "output_type": "stream",
     "text": [
      "F1 is 24Hz\n"
     ]
    }
   ],
   "source": [
    "# very low frequency, room can't support standing waves lower than this, the longest dimension of the room\n",
    "F1 = speed_of_sound / (2 * np.sqrt(length2 + width2 + height2))\n",
    "print(f\"F1 is {F1:.0f}Hz\")"
   ]
  },
  {
   "cell_type": "markdown",
   "id": "0ea45296-be3d-4c25-b417-e340055e6442",
   "metadata": {},
   "source": [
    "## Schroeder Cutoff Frequency\n",
    "\n",
    "The Schroeder Cutoff Frequency is a rough upper limit for the modal behavior of the room.\n",
    "\n",
    "Note that the decay time of the room has an impact on the modal cutoff frequency. For now we'll use the Tm value from the decay-time notebook. We'll include some exploration of the impact of the decay time on modal behavior below."
   ]
  },
  {
   "cell_type": "code",
   "execution_count": 22,
   "id": "7c2eb988-4142-4279-80db-08cd00cab27a",
   "metadata": {},
   "outputs": [
    {
     "name": "stdout",
     "output_type": "stream",
     "text": [
      "F2 is 137Hz\n"
     ]
    }
   ],
   "source": [
    "Tm = 0.240\n",
    "F2 = 2000 * np.sqrt(Tm / (length * width * height))\n",
    "print(f\"F2 is {F2:.0f}Hz\")"
   ]
  },
  {
   "cell_type": "markdown",
   "id": "56c80cff-3132-41d9-9aa1-d7d795e6c4f8",
   "metadata": {},
   "source": [
    "## Transistion Region\n",
    "\n",
    "A region where neither wave nor ray method do a good job of approximating the acoustic behavior of the room"
   ]
  },
  {
   "cell_type": "code",
   "execution_count": 23,
   "id": "0807452f-605f-426c-aca6-a49541a18ecc",
   "metadata": {},
   "outputs": [
    {
     "name": "stdout",
     "output_type": "stream",
     "text": [
      "F3 is 546Hz\n"
     ]
    }
   ],
   "source": [
    "F3 = 4 * F2\n",
    "print(f\"F3 is {F3:.0f}Hz\")"
   ]
  },
  {
   "cell_type": "markdown",
   "id": "5aa40855-5741-4fad-ba68-63857fc80516",
   "metadata": {},
   "source": [
    "## Impact of Decay Time on the Schroeder Cutoff Frequency (F2)\n",
    "\n",
    "As can be seen below the decay time can have a huge impact on the Schroeder Cutoff Frequency, in the case of the room being modeled shifting it between 100-300Hz with the ideal value marked."
   ]
  },
  {
   "cell_type": "code",
   "execution_count": 37,
   "id": "e0164c07-2ad2-4d36-8ac8-dcc7040f8bd3",
   "metadata": {},
   "outputs": [
    {
     "data": {
      "image/png": "[encoded data removed]",
      "text/plain": [
       "<Figure size 1200x600 with 1 Axes>"
      ]
     },
     "metadata": {},
     "output_type": "display_data"
    }
   ],
   "source": [
    "T = np.arange(0.1, 1.25, 0.01)\n",
    "\n",
    "fig = plt.figure()\n",
    "fig.set_figheight(6)\n",
    "fig.set_figwidth(12)\n",
    "ax = fig.add_subplot()\n",
    "\n",
    "ax.plot(T, 2000 * np.sqrt(T / (length * width * height)))\n",
    "ax.axhline(F2)\n",
    "ax.set_title(\"Decay time and Schroeder Cutoff Frequency\")\n",
    "ax.set_ylabel(\"Hz\")\n",
    "ax.set_xlabel(\"seconds\")\n",
    "None"
   ]
  },
  {
   "cell_type": "markdown",
   "id": "e29c0ed1-0dd5-4ec5-9055-e00256f4f32a",
   "metadata": {},
   "source": [
    "## Distribution of Room Modes\n",
    "\n",
    "Again we're using the ideal decay time Tm for the room. If the actual decay time is higher there will be many more room mode activated at higher frequencies.\n",
    "\n",
    "The following is based on the Master Handbook of Acoustics 4th Eddition, p327"
   ]
  },
  {
   "cell_type": "code",
   "execution_count": 43,
   "id": "b47445a3-cfbd-42e8-8864-d376daa64a23",
   "metadata": {},
   "outputs": [
    {
     "data": {
      "text/plain": [
       "[{'freq': 32.15223097112861, 'p': 1, 'q': 0, 'r': 0},\n",
       " {'freq': 44.77556411662794, 'p': 0, 'q': 1, 'r': 0},\n",
       " {'freq': 55.123652803338985, 'p': 1, 'q': 1, 'r': 0},\n",
       " {'freq': 64.30446194225722, 'p': 2, 'q': 0, 'r': 0},\n",
       " {'freq': 68.02990935956683, 'p': 0, 'q': 0, 'r': 1},\n",
       " {'freq': 75.2451627939742, 'p': 1, 'q': 0, 'r': 1},\n",
       " {'freq': 78.35760950696152, 'p': 2, 'q': 1, 'r': 0},\n",
       " {'freq': 81.44273883799058, 'p': 0, 'q': 1, 'r': 1},\n",
       " {'freq': 87.55961207002883, 'p': 1, 'q': 1, 'r': 1},\n",
       " {'freq': 89.55112823325588, 'p': 0, 'q': 2, 'r': 0},\n",
       " {'freq': 93.61160394499224, 'p': 2, 'q': 0, 'r': 1},\n",
       " {'freq': 95.14815039857497, 'p': 1, 'q': 2, 'r': 0},\n",
       " {'freq': 96.45669291338584, 'p': 3, 'q': 0, 'r': 0},\n",
       " {'freq': 103.7688948342245, 'p': 2, 'q': 1, 'r': 1},\n",
       " {'freq': 106.34258201562287, 'p': 3, 'q': 1, 'r': 0},\n",
       " {'freq': 110.24730560667797, 'p': 2, 'q': 2, 'r': 0},\n",
       " {'freq': 112.4609849473137, 'p': 0, 'q': 2, 'r': 1},\n",
       " {'freq': 116.96682902319237, 'p': 1, 'q': 2, 'r': 1},\n",
       " {'freq': 118.03373320901994, 'p': 3, 'q': 0, 'r': 1},\n",
       " {'freq': 126.24109203116217, 'p': 3, 'q': 1, 'r': 1},\n",
       " {'freq': 128.60892388451444, 'p': 4, 'q': 0, 'r': 0},\n",
       " {'freq': 129.54743131765727, 'p': 2, 'q': 2, 'r': 1},\n",
       " {'freq': 131.61800095593404, 'p': 3, 'q': 2, 'r': 0},\n",
       " {'freq': 134.32669234988384, 'p': 0, 'q': 3, 'r': 0},\n",
       " {'freq': 136.05981871913366, 'p': 0, 'q': 0, 'r': 2},\n",
       " {'freq': 136.180418727125, 'p': 4, 'q': 1, 'r': 0}]"
      ]
     },
     "execution_count": 43,
     "metadata": {},
     "output_type": "execute_result"
    }
   ],
   "source": [
    "nth = 12\n",
    "modes = []\n",
    "# this is going to do a bunch of math just to throw out the results...\n",
    "for p in range(0, nth):\n",
    "    p2 = p * p\n",
    "    for q in range(0, nth):\n",
    "        q2 = q * q\n",
    "        for r in range(0, nth):\n",
    "            r2 = r * r\n",
    "            f = (speed_of_sound / 2) * np.sqrt(\n",
    "                (p2 / length2) + (q2 / width2) + (r2 / height2)\n",
    "            )\n",
    "            if 0 < f and f <= F2:\n",
    "                modes.append(\n",
    "                    {\n",
    "                        \"freq\": f,\n",
    "                        \"p\": p,\n",
    "                        \"q\": q,\n",
    "                        \"r\": r,\n",
    "                    }\n",
    "                )\n",
    "\n",
    "modes.sort(key=lambda m: m[\"freq\"])\n",
    "modes"
   ]
  },
  {
   "cell_type": "code",
   "execution_count": 47,
   "id": "27e39b7e-6083-4351-b8bd-bd01d536aba7",
   "metadata": {},
   "outputs": [
    {
     "data": {
      "image/png": "[encoded data removed]",
      "text/plain": [
       "<Figure size 1200x600 with 1 Axes>"
      ]
     },
     "metadata": {},
     "output_type": "display_data"
    }
   ],
   "source": [
    "fig = plt.figure()\n",
    "fig.set_figheight(6)\n",
    "fig.set_figwidth(12)\n",
    "ax = fig.add_subplot()\n",
    "\n",
    "ax.vlines([m[\"freq\"] for m in modes], 0, 1)\n",
    "ax.set_xlabel(\"Hz\")\n",
    "ax.set_ylim(0, 1.5)\n",
    "ax.get_yaxis().set_visible(False)\n",
    "ax.set_title(\"Estimated Room Modes\")\n",
    "\n",
    "None"
   ]
  },
  {
   "cell_type": "code",
   "execution_count": null,
   "id": "6295cabb-e533-4863-8082-35459ff46f61",
   "metadata": {},
   "outputs": [],
   "source": []
  }
 ],
 "metadata": {
  "kernelspec": {
   "display_name": "Python 3 (ipykernel)",
   "language": "python",
   "name": "python3"
  },
  "language_info": {
   "codemirror_mode": {
    "name": "ipython",
    "version": 3
   },
   "file_extension": ".py",
   "mimetype": "text/x-python",
   "name": "python",
   "nbconvert_exporter": "python",
   "pygments_lexer": "ipython3",
   "version": "3.12.3"
  }
 },
 "nbformat": 4,
 "nbformat_minor": 5
}
